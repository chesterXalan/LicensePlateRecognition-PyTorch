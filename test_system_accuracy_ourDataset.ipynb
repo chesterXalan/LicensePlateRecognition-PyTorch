{
 "cells": [
  {
   "cell_type": "code",
   "execution_count": 1,
   "metadata": {},
   "outputs": [],
   "source": [
    "import cv2\n",
    "import json\n",
    "import numpy as np\n",
    "import os\n",
    "import os.path as osp\n",
    "from time import time\n",
    "from pathlib import Path\n",
    "from tqdm import tqdm\n",
    "\n",
    "from core import ObjectDetector, CornerPredictor"
   ]
  },
  {
   "cell_type": "code",
   "execution_count": 2,
   "metadata": {},
   "outputs": [
    {
     "name": "stdout",
     "output_type": "stream",
     "text": [
      "<yolov4-default> model loaded.\n",
      "<yolov4-plate_type> model loaded.\n",
      "<yolov4-plate_number> model loaded.\n",
      "<corner_prediction> model loaded.\n"
     ]
    }
   ],
   "source": [
    "dt_vehicle = ObjectDetector('yolov4-default')\n",
    "dt_plate   = ObjectDetector('yolov4-plate_type')\n",
    "dt_number  = ObjectDetector('yolov4-plate_number')\n",
    "dt_corner  = CornerPredictor('corner_prediction')"
   ]
  },
  {
   "cell_type": "code",
   "execution_count": 3,
   "metadata": {},
   "outputs": [],
   "source": [
    "def start(img, pts):\n",
    "    img_vehicle, img_plate, img_plate_warped = None, None, None\n",
    "    plate, number = '', ''\n",
    "    s_time = time()\n",
    "\n",
    "    _ = dt_vehicle.loadImage(img)\n",
    "    bbox1, _ = dt_vehicle.runDetection(mode='vehicle', multi_res=True)\n",
    "    for box1 in bbox1:\n",
    "        img_vehicle = dt_plate.loadImage(img, True, box1)\n",
    "        bbox2, obj2 = dt_plate.runDetection(mode='plate')\n",
    "\n",
    "        if len(bbox2) != 0:\n",
    "            if (box1[0, 0]+bbox2[0, 0]) <= pts[0, 0] and (box1[0, 1]+bbox2[0, 1]) <= pts[0, 1] and\\\n",
    "            (box1[0, 0]+bbox2[1, 0]) >= pts[1, 0] and (box1[0, 1]+bbox2[1, 1]) >= pts[1, 1]:\n",
    "                img_plate = dt_corner.loadImage(img_vehicle, True, bbox2)\n",
    "                img_plate_warped, _ = dt_corner.runPrediction()\n",
    "\n",
    "                _ = dt_number.loadImage(img_plate_warped)\n",
    "                bbox3, obj3 = dt_number.runDetection(mode='number', multi_res=True)\n",
    "\n",
    "                if len(bbox3) != 0:\n",
    "                    plate = obj2\n",
    "                    order = bbox3[:, 0, 0].argsort()\n",
    "                    for o in order:\n",
    "                        number += obj3[o]\n",
    "                    break\n",
    "\n",
    "    t_time = time() - s_time\n",
    "\n",
    "    return t_time, plate, number, img_vehicle, img_plate, img_plate_warped\n",
    "\n",
    "def error_log(p, label, predict, write=False, img1=None, img2=None, img3=None):\n",
    "    log = {'path': p, 'label': label, 'predict': predict}\n",
    "    \n",
    "    if write:\n",
    "        dir = 'error_log/system_error_ourDataset'\n",
    "        file = osp.basename(p).split('-')[0]\n",
    "        if not osp.exists(dir): os.mkdir(dir)\n",
    "        cv2.imwrite(osp.join(dir, file+'.jpg'), cv2.cvtColor(img1, cv2.COLOR_BGR2RGB))\n",
    "        cv2.imwrite(osp.join(dir, file+'-plate.jpg'), cv2.cvtColor(img2, cv2.COLOR_BGR2RGB))\n",
    "        cv2.imwrite(osp.join(dir, file+'-plate_warped.jpg'), cv2.cvtColor(img3, cv2.COLOR_BGR2RGB))\n",
    "\n",
    "    return log"
   ]
  },
  {
   "cell_type": "code",
   "execution_count": 4,
   "metadata": {},
   "outputs": [
    {
     "name": "stdout",
     "output_type": "stream",
     "text": [
      "total: 3496\n"
     ]
    }
   ],
   "source": [
    "dataset_dir = r'D:\\User Profiles\\Desktop\\Personal Files\\School\\University Project\\myPlateDetection\\all_dataset\\train_valid_data'\n",
    "vehicle_dataset = osp.join(dataset_dir, 'vehicle_images')\n",
    "plate_dataset = osp.join(dataset_dir, 'plate_images')\n",
    "\n",
    "path_file = r'D:\\User Profiles\\Desktop\\Personal Files\\School\\University Project\\myPlateDetection\\training_data\\plate_number_detection\\file_path.json'\n",
    "with open(path_file, 'r') as f:\n",
    "    test_path = json.load(f)['valid']\n",
    "\n",
    "test_path = [osp.join(vehicle_dataset, osp.basename(p).split('-')[0]+'.jpg') for p in test_path]\n",
    "print('total:', len(test_path))"
   ]
  },
  {
   "cell_type": "code",
   "execution_count": 5,
   "metadata": {},
   "outputs": [
    {
     "name": "stderr",
     "output_type": "stream",
     "text": [
      "100%|██████████████████████████████████████████████████████| 3496/3496 [06:04<00:00,  9.60 images/s]"
     ]
    },
    {
     "name": "stdout",
     "output_type": "stream",
     "text": [
      "Average time: 0.095s\n",
      "ACC with no result:\n",
      "Plate: total=3496, correct=2242, accuracy=64.13%\n",
      "Number: total=3496, correct=2220, accuracy=63.50%\n",
      "P and N: total=3496, correct=2214, accuracy=63.33%\n",
      "ACC without no result:\n",
      "Plate: total=2249, correct=2242, accuracy=99.69%\n",
      "Number: total=2249, correct=2220, accuracy=98.71%\n",
      "P and N: total=2249, correct=2214, accuracy=98.44%\n"
     ]
    },
    {
     "name": "stderr",
     "output_type": "stream",
     "text": [
      "\n"
     ]
    }
   ],
   "source": [
    "n_test = len(test_path)\n",
    "acc_list = [[n_test, 0], [n_test, 0], [n_test, 0]] # plate_ACC, number_ACC, p&n_ACC\n",
    "total_time = 0\n",
    "num_result = 0\n",
    "sys_error = []\n",
    "\n",
    "for i in tqdm(range(n_test), unit=' images', ncols=100):\n",
    "    p = test_path[i]\n",
    "    img = cv2.cvtColor(cv2.imread(p), cv2.COLOR_BGR2RGB)\n",
    "\n",
    "    plate_file = p.replace('jpg', 'json')\n",
    "    with open(plate_file, 'r', encoding='utf-8') as f:\n",
    "        data = json.load(f)['shapes'][0]\n",
    "    plate = data['label']\n",
    "    pts = np.array(data['points'])\n",
    "    \n",
    "    offset_x, offset_y = int(0.1*(pts[1, 0]-pts[0, 0])), int(0.1*(pts[1, 1]-pts[0, 1]))\n",
    "    pts[0, 0], pts[0, 1] = pts[0, 0]+offset_x, pts[0, 1]+offset_y\n",
    "    pts[1, 0], pts[1, 1] = pts[1, 0]-offset_x, pts[1, 1]-offset_y\n",
    "    \n",
    "    if i == 0:\n",
    "        _, _, _, _, _, _ = start(img, pts)\n",
    "    t_time, d_plate, d_number, img_vehicle, img_plate, img_plate_warped = start(img, pts)\n",
    "    total_time += t_time\n",
    "\n",
    "    if d_number != '':\n",
    "        num_result += 1\n",
    "        fn = osp.basename(p).split('.')[0]\n",
    "        number_file = osp.join(plate_dataset, fn+'-plate.json')\n",
    "        with open(number_file, 'r') as f:\n",
    "            nb = [sh['label'] for sh in json.load(f)['shapes']] # plate numbers\n",
    "        number = ''\n",
    "        for n in nb:\n",
    "            number += n\n",
    "\n",
    "        if d_plate == plate:\n",
    "            acc_list[0][1] += 1\n",
    "        if d_number == number:\n",
    "            acc_list[1][1] += 1\n",
    "        else:\n",
    "            sys_error.append(error_log(fn, [plate, number], [d_plate, d_number], True, img_vehicle, img_plate, img_plate_warped))\n",
    "        if d_plate == plate and d_number == number:\n",
    "            acc_list[2][1] += 1\n",
    "\n",
    "print('Average time: {:.3f}s'.format(total_time/n_test))\n",
    "print('ACC with no result:')\n",
    "print('Plate: total={:>4d}, correct={:>4d}, accuracy={:.2f}%'.format(acc_list[0][0], acc_list[0][1], acc_list[0][1]/acc_list[0][0]*100))\n",
    "print('Number: total={:>4d}, correct={:>4d}, accuracy={:.2f}%'.format(acc_list[1][0], acc_list[1][1], acc_list[1][1]/acc_list[1][0]*100))\n",
    "print('P and N: total={:>4d}, correct={:>4d}, accuracy={:.2f}%'.format(acc_list[2][0], acc_list[2][1], acc_list[2][1]/acc_list[2][0]*100))\n",
    "print('ACC without no result:')\n",
    "print('Plate: total={:>4d}, correct={:>4d}, accuracy={:.2f}%'.format(num_result, acc_list[0][1], acc_list[0][1]/num_result*100))\n",
    "print('Number: total={:>4d}, correct={:>4d}, accuracy={:.2f}%'.format(num_result, acc_list[1][1], acc_list[1][1]/num_result*100))\n",
    "print('P and N: total={:>4d}, correct={:>4d}, accuracy={:.2f}%'.format(num_result, acc_list[2][1], acc_list[2][1]/num_result*100))\n",
    "\n",
    "log_dict = {'sys_error': sys_error}\n",
    "with open('error_log/system_error_ourDataset.json', 'w') as f:\n",
    "    json.dump(log_dict, f, indent=2, ensure_ascii=False)"
   ]
  }
 ],
 "metadata": {
  "kernelspec": {
   "display_name": "Python 3.8.13 ('pytorch')",
   "language": "python",
   "name": "python3"
  },
  "language_info": {
   "codemirror_mode": {
    "name": "ipython",
    "version": 3
   },
   "file_extension": ".py",
   "mimetype": "text/x-python",
   "name": "python",
   "nbconvert_exporter": "python",
   "pygments_lexer": "ipython3",
   "version": "3.8.13"
  },
  "orig_nbformat": 4,
  "vscode": {
   "interpreter": {
    "hash": "7fe7e10e5f5d0508c9b62331169c598711bde018a8abe63e5380bb769babbd73"
   }
  }
 },
 "nbformat": 4,
 "nbformat_minor": 2
}
