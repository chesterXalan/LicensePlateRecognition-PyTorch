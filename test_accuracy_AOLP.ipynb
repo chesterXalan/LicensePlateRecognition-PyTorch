{
 "cells": [
  {
   "cell_type": "code",
   "execution_count": 1,
   "metadata": {},
   "outputs": [],
   "source": [
    "import cv2\n",
    "import numpy as np\n",
    "import json\n",
    "import os\n",
    "import os.path as osp\n",
    "from pathlib import Path\n",
    "from tqdm import tqdm\n",
    "from time import time\n",
    "\n",
    "from core import ObjectDetector, CornerPredictor"
   ]
  },
  {
   "cell_type": "code",
   "execution_count": 2,
   "metadata": {},
   "outputs": [
    {
     "name": "stdout",
     "output_type": "stream",
     "text": [
      "<yolov4-plate_number> model loaded.\n",
      "<corner_prediction> model loaded.\n"
     ]
    }
   ],
   "source": [
    "#dt_vehicle = ObjectDetector('yolov4-default')\n",
    "#dt_plate   = ObjectDetector('yolov4-plate_type')\n",
    "dt_number  = ObjectDetector('yolov4-plate_number')\n",
    "dt_corner  = CornerPredictor('corner_prediction')"
   ]
  },
  {
   "cell_type": "code",
   "execution_count": 3,
   "metadata": {},
   "outputs": [],
   "source": [
    "def start(img, pts):\n",
    "    s_time = time()\n",
    "    img_plate = dt_corner.loadImage(img, True, pts)\n",
    "    img_plate_warped, _ = dt_corner.runPrediction()\n",
    "\n",
    "    _ = dt_number.loadImage(img_plate_warped)\n",
    "    bbox3, obj3 = dt_number.runDetection(mode='number', multi_res=True)\n",
    "\n",
    "    d_number = ''\n",
    "    if len(bbox3) != 0:\n",
    "        nb = [obj3[i] for i in bbox3[:, 0, 0].argsort()]\n",
    "        for n in nb:\n",
    "            d_number += n\n",
    "        \n",
    "    t_time = time() - s_time\n",
    "\n",
    "    return t_time, d_number, img_plate, img_plate_warped\n",
    "\n",
    "def error_log(p, label, predict, write=False, img1=None, img2=None):\n",
    "    log = {'path': p, 'label': label, 'predict': predict}\n",
    "    \n",
    "    if write:\n",
    "        dir = 'error_log/number_error_AOLP'\n",
    "        file = osp.basename(p).split('-')[0]\n",
    "        if not osp.exists(dir): os.mkdir(dir)\n",
    "        cv2.imwrite(osp.join(dir, file+'-plate.jpg'), cv2.cvtColor(img1, cv2.COLOR_BGR2RGB))\n",
    "        cv2.imwrite(osp.join(dir, file+'-plate_warped.jpg'), cv2.cvtColor(img2, cv2.COLOR_BGR2RGB))\n",
    "\n",
    "    return log"
   ]
  },
  {
   "cell_type": "code",
   "execution_count": 4,
   "metadata": {},
   "outputs": [
    {
     "name": "stdout",
     "output_type": "stream",
     "text": [
      "total: 2049\n"
     ]
    }
   ],
   "source": [
    "dataset_dir = r'D:\\User Profiles\\Desktop\\Personal Files\\School\\University Project\\myPlateDetection\\all_dataset\\test_data'\n",
    "vehicle_dataset = osp.join(dataset_dir, 'vehicle_images')\n",
    "plate_dataset = osp.join(dataset_dir, 'plate_images')\n",
    "\n",
    "test_path = [str(p) for p in Path(vehicle_dataset).glob('**/*.jpg')]\n",
    "print('total:', len(test_path))"
   ]
  },
  {
   "cell_type": "code",
   "execution_count": 5,
   "metadata": {},
   "outputs": [
    {
     "name": "stderr",
     "output_type": "stream",
     "text": [
      "100%|██████████████████████████████████████████████████████| 2049/2049 [01:47<00:00, 18.98 images/s]"
     ]
    },
    {
     "name": "stdout",
     "output_type": "stream",
     "text": [
      "Average time: 0.040s\n",
      "Overall: total=2049, correct=2026, accuracy=98.88%\n",
      "AC: total= 681, correct= 672, accuracy=98.68%\n",
      "LE: total= 757, correct= 754, accuracy=99.60%\n",
      "RP: total= 611, correct= 600, accuracy=98.20%\n",
      "No result: 0\n",
      "Number error: 23\n"
     ]
    },
    {
     "name": "stderr",
     "output_type": "stream",
     "text": [
      "\n"
     ]
    }
   ],
   "source": [
    "n_test = len(test_path)\n",
    "no_result = []\n",
    "num_error = []\n",
    "total_time = 0\n",
    "\n",
    "acc_list = [0, 0]\n",
    "acc_list_ac = [0, 0]\n",
    "acc_list_le = [0, 0]\n",
    "acc_list_rp = [0, 0]\n",
    "\n",
    "for i in tqdm(range(n_test), unit=' images', ncols=100):\n",
    "    p = test_path[i]\n",
    "    img = cv2.cvtColor(cv2.imread(p), cv2.COLOR_BGR2RGB)\n",
    "    with open(p.replace('jpg', 'json'), 'r', encoding='utf-8') as f:\n",
    "        pts = np.array(json.load(f)['shapes'][0]['points']) # plate points\n",
    "\n",
    "    if i == 0:\n",
    "        _, _, _, _ = start(img, pts) # skip initial time\n",
    "    t_time, d_number, img_plate, img_plate_warped = start(img, pts)\n",
    "\n",
    "    fn = osp.basename(p).split('.')[0]\n",
    "    number_file = osp.join(plate_dataset, fn+'-plate.json')\n",
    "    with open(number_file, 'r') as f:\n",
    "        nb = [sh['label'] for sh in json.load(f)['shapes']] # plate numbers\n",
    "    number = ''\n",
    "    for n in nb:\n",
    "        number += n\n",
    "\n",
    "    total_time += t_time\n",
    "    acc_list[0] += 1\n",
    "    if 'AC' in fn: acc_list_ac[0] += 1\n",
    "    if 'LE' in fn: acc_list_le[0] += 1\n",
    "    if 'RP' in fn: acc_list_rp[0] += 1\n",
    "\n",
    "    if d_number == number:\n",
    "        acc_list[1] += 1\n",
    "        if 'AC' in fn: acc_list_ac[1] += 1\n",
    "        if 'LE' in fn: acc_list_le[1] += 1\n",
    "        if 'RP' in fn: acc_list_rp[1] += 1\n",
    "    elif d_number == '':\n",
    "        no_result.append(error_log(fn, number, d_number, True, img_plate, img_plate_warped))\n",
    "    else:\n",
    "        num_error.append(error_log(fn, number, d_number, True, img_plate, img_plate_warped))\n",
    "\n",
    "print('Average time: {:.3f}s'.format(total_time/n_test))\n",
    "print('Overall: total={:>4d}, correct={:>4d}, accuracy={:.2f}%'.format(acc_list[0], acc_list[1], acc_list[1]/acc_list[0]*100))\n",
    "print('AC: total={:>4d}, correct={:>4d}, accuracy={:.2f}%'.format(acc_list_ac[0], acc_list_ac[1], acc_list_ac[1]/acc_list_ac[0]*100))\n",
    "print('LE: total={:>4d}, correct={:>4d}, accuracy={:.2f}%'.format(acc_list_le[0], acc_list_le[1], acc_list_le[1]/acc_list_le[0]*100))\n",
    "print('RP: total={:>4d}, correct={:>4d}, accuracy={:.2f}%'.format(acc_list_rp[0], acc_list_rp[1], acc_list_rp[1]/acc_list_rp[0]*100))\n",
    "print('No result:', len(no_result))\n",
    "print('Number error:', len(num_error))\n",
    "\n",
    "log_dict = {'no_result': no_result, 'num_error': num_error}\n",
    "with open('error_log/number_error_AOLP.json', 'w') as f:\n",
    "    json.dump(log_dict, f, indent=2)"
   ]
  }
 ],
 "metadata": {
  "kernelspec": {
   "display_name": "Python 3.8.13 ('pytorch')",
   "language": "python",
   "name": "python3"
  },
  "language_info": {
   "codemirror_mode": {
    "name": "ipython",
    "version": 3
   },
   "file_extension": ".py",
   "mimetype": "text/x-python",
   "name": "python",
   "nbconvert_exporter": "python",
   "pygments_lexer": "ipython3",
   "version": "3.8.13"
  },
  "orig_nbformat": 4,
  "vscode": {
   "interpreter": {
    "hash": "7fe7e10e5f5d0508c9b62331169c598711bde018a8abe63e5380bb769babbd73"
   }
  }
 },
 "nbformat": 4,
 "nbformat_minor": 2
}
