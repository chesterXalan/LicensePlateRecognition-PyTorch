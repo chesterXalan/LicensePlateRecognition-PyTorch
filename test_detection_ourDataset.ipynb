{
 "cells": [
  {
   "cell_type": "code",
   "execution_count": 1,
   "metadata": {},
   "outputs": [],
   "source": [
    "import cv2\n",
    "import json\n",
    "import os\n",
    "import os.path as osp\n",
    "import numpy as np\n",
    "from pathlib import Path\n",
    "from tqdm import tqdm\n",
    "from time import time\n",
    "\n",
    "import pandas as pd\n",
    "from sklearn.metrics import confusion_matrix\n",
    "\n",
    "from core import ObjectDetector, CornerPredictor"
   ]
  },
  {
   "cell_type": "code",
   "execution_count": 2,
   "metadata": {},
   "outputs": [
    {
     "name": "stdout",
     "output_type": "stream",
     "text": [
      "<yolov4-plate_type> model loaded.\n"
     ]
    }
   ],
   "source": [
    "#dt_vehicle = ObjectDetector('yolov4-default')\n",
    "dt_plate   = ObjectDetector('yolov4-plate_type')\n",
    "#dt_number  = ObjectDetector('yolov4-plate_number')\n",
    "#dt_corner  = CornerPredictor('corner_prediction')"
   ]
  },
  {
   "cell_type": "code",
   "execution_count": 3,
   "metadata": {},
   "outputs": [],
   "source": [
    "def start(img, pts):\n",
    "    plate = ''\n",
    "    s_time = time()\n",
    "\n",
    "    img_vehicle = dt_plate.loadImage(img)\n",
    "    bbox2, obj2 = dt_plate.runDetection(mode='plate', multi_res=True)\n",
    "    for i, box2 in enumerate(bbox2):\n",
    "        if box2[0, 0] <= pts[0, 0] and box2[0, 1] <= pts[0, 1] and\\\n",
    "        box2[1, 0] >= pts[1, 0] and box2[1, 1] >= pts[1, 1]:\n",
    "            plate = obj2[i]\n",
    "            break\n",
    "\n",
    "    t_time = time() - s_time\n",
    "\n",
    "    return t_time, plate, img_vehicle\n",
    "\n",
    "def error_log(p, label, predict, write=False, img=None):\n",
    "    log = {'path': p, 'label': label, 'predict': predict}\n",
    "    \n",
    "    if write:\n",
    "        dir = 'error_log/plate_error_ourDataset'\n",
    "        file = osp.basename(p).split('-')[0]\n",
    "        if not osp.exists(dir): os.mkdir(dir)\n",
    "        cv2.imwrite(osp.join(dir, file), cv2.cvtColor(img, cv2.COLOR_BGR2RGB))\n",
    "\n",
    "    return log"
   ]
  },
  {
   "cell_type": "code",
   "execution_count": 4,
   "metadata": {},
   "outputs": [
    {
     "name": "stdout",
     "output_type": "stream",
     "text": [
      "total: 3496\n"
     ]
    }
   ],
   "source": [
    "path_file = r'D:\\User Profiles\\Desktop\\Personal Files\\School\\University Project\\myPlateDetection\\training_data\\plate_type_detection\\file_path.json'\n",
    "with open(path_file, 'r') as f:\n",
    "    test_path = json.load(f)['valid']\n",
    "\n",
    "test_path = [osp.join(r'D:\\User Profiles\\Desktop\\Personal Files\\School\\University Project\\myPlateDetection', p).replace('json', 'jpg') for p in test_path]\n",
    "classes = {'白底黑字': 0, '白底紅字': 1, '電動車': 2, '其他': 3}\n",
    "\n",
    "print('total:', len(test_path))"
   ]
  },
  {
   "cell_type": "code",
   "execution_count": 5,
   "metadata": {},
   "outputs": [
    {
     "name": "stderr",
     "output_type": "stream",
     "text": [
      "100%|██████████████████████████████████████████████████████| 3496/3496 [02:37<00:00, 22.23 images/s]"
     ]
    },
    {
     "name": "stdout",
     "output_type": "stream",
     "text": [
      "Average time: 0.037s\n",
      "Overall: total=3496, correct=3426, accuracy=98.00%\n",
      "Detection rate: 98.28%\n",
      "No detection: 60\n",
      "Plate error: 10\n"
     ]
    },
    {
     "name": "stderr",
     "output_type": "stream",
     "text": [
      "\n"
     ]
    }
   ],
   "source": [
    "n_test = len(test_path)\n",
    "label, predict = [], []\n",
    "plate_error, no_detection = [], []\n",
    "total_time = 0\n",
    "\n",
    "acc_list = [n_test, 0]\n",
    "\n",
    "for i in tqdm(range(n_test), unit=' images', ncols=100):\n",
    "    p = test_path[i]\n",
    "    img = cv2.cvtColor(cv2.imread(p), cv2.COLOR_BGR2RGB)\n",
    "    \n",
    "    with open(p.replace('jpg', 'json'), 'r', encoding='utf-8') as f:\n",
    "        data = json.load(f)['shapes'][0]\n",
    "    l_type = data['label'] # plate type\n",
    "    pts = np.array(data['points']) # plate points \n",
    "\n",
    "    offset_x, offset_y = int(0.1*(pts[1, 0]-pts[0, 0])), int(0.1*(pts[1, 1]-pts[0, 1]))\n",
    "    pts[0, 0], pts[0, 1] = pts[0, 0]+offset_x, pts[0, 1]+offset_y\n",
    "    pts[1, 0], pts[1, 1] = pts[1, 0]-offset_x, pts[1, 1]-offset_y\n",
    "    \n",
    "    if i == 0:\n",
    "        _, _, _ = start(img, pts) # skip initial time\n",
    "    t_time, d_type, img_vehicle = start(img, pts)\n",
    "    total_time += t_time\n",
    "\n",
    "    if d_type != '':\n",
    "        label.append(classes[l_type])\n",
    "        predict.append(classes[d_type])\n",
    "\n",
    "    fn = osp.basename(p)\n",
    "    if d_type == l_type:\n",
    "        acc_list[1] += 1\n",
    "    elif d_type == '':\n",
    "        no_detection.append(error_log(fn, l_type, d_type, True, img_vehicle))\n",
    "    else: \n",
    "        plate_error.append(error_log(fn, l_type, d_type, True, img_vehicle))\n",
    "\n",
    "print('Average time: {:.3f}s'.format(total_time/n_test))\n",
    "print('Overall: total={:>4d}, correct={:>4d}, accuracy={:.2f}%'.format(acc_list[0], acc_list[1], acc_list[1]/acc_list[0]*100))\n",
    "print('Detection rate: {:.2f}%'.format((acc_list[0]-len(no_detection))/acc_list[0]*100))\n",
    "print('No detection:', len(no_detection))\n",
    "print('Plate error:', len(plate_error))\n",
    "\n",
    "log_dict = {'no_detection': no_detection, 'plate_error': plate_error}\n",
    "with open('error_log/plate_error_ourDataset.json', 'w', encoding='utf-8') as f:\n",
    "    json.dump(log_dict, f, indent=2, ensure_ascii=False)"
   ]
  },
  {
   "cell_type": "code",
   "execution_count": 6,
   "metadata": {},
   "outputs": [],
   "source": [
    "def calc_score(cfmat):\n",
    "    cls_num = cfmat.shape[0]\n",
    "    all_num = np.sum(cfmat)\n",
    "    cls_score = []\n",
    "\n",
    "    for i in range(cls_num):\n",
    "        TP = cfmat[i, i]\n",
    "        FN = np.sum(cfmat[i, :]) - TP\n",
    "        FP = np.sum(cfmat[:, i]) - TP\n",
    "        #TN = all_num - FN - FP + TP\n",
    "        \n",
    "        TPR = TP / (TP+FN) if TP != 0 else 0 # recall\n",
    "        PPV = TP / (TP+FP) if TP != 0 else 0 # precision\n",
    "        F1 = 2 * (PPV*TPR) / (PPV+TPR) if 0 not in [PPV, TPR] else 0\n",
    "        \n",
    "        cls_score.append({'TP': TP,\n",
    "                        'FN': FN,\n",
    "                        'FP': FP,\n",
    "                        'TPR': round(TPR, 4),\n",
    "                        'PPV': round(PPV, 4),\n",
    "                        'F1': round(F1, 4)})\n",
    "\n",
    "    return cls_score"
   ]
  },
  {
   "cell_type": "code",
   "execution_count": 7,
   "metadata": {},
   "outputs": [
    {
     "name": "stdout",
     "output_type": "stream",
     "text": [
      "[[3169    4    0    0]\n",
      " [   1  235    0    1]\n",
      " [   0    0   14    0]\n",
      " [   3    1    0    8]]\n"
     ]
    },
    {
     "data": {
      "text/html": [
       "<div>\n",
       "<style scoped>\n",
       "    .dataframe tbody tr th:only-of-type {\n",
       "        vertical-align: middle;\n",
       "    }\n",
       "\n",
       "    .dataframe tbody tr th {\n",
       "        vertical-align: top;\n",
       "    }\n",
       "\n",
       "    .dataframe thead th {\n",
       "        text-align: right;\n",
       "    }\n",
       "</style>\n",
       "<table border=\"1\" class=\"dataframe\">\n",
       "  <thead>\n",
       "    <tr style=\"text-align: right;\">\n",
       "      <th></th>\n",
       "      <th>TP</th>\n",
       "      <th>FN</th>\n",
       "      <th>FP</th>\n",
       "      <th>TPR</th>\n",
       "      <th>PPV</th>\n",
       "      <th>F1</th>\n",
       "    </tr>\n",
       "  </thead>\n",
       "  <tbody>\n",
       "    <tr>\n",
       "      <th>0</th>\n",
       "      <td>3169</td>\n",
       "      <td>4</td>\n",
       "      <td>4</td>\n",
       "      <td>0.9987</td>\n",
       "      <td>0.9987</td>\n",
       "      <td>0.9987</td>\n",
       "    </tr>\n",
       "    <tr>\n",
       "      <th>1</th>\n",
       "      <td>235</td>\n",
       "      <td>2</td>\n",
       "      <td>5</td>\n",
       "      <td>0.9916</td>\n",
       "      <td>0.9792</td>\n",
       "      <td>0.9853</td>\n",
       "    </tr>\n",
       "    <tr>\n",
       "      <th>2</th>\n",
       "      <td>14</td>\n",
       "      <td>0</td>\n",
       "      <td>0</td>\n",
       "      <td>1.0000</td>\n",
       "      <td>1.0000</td>\n",
       "      <td>1.0000</td>\n",
       "    </tr>\n",
       "    <tr>\n",
       "      <th>3</th>\n",
       "      <td>8</td>\n",
       "      <td>4</td>\n",
       "      <td>1</td>\n",
       "      <td>0.6667</td>\n",
       "      <td>0.8889</td>\n",
       "      <td>0.7619</td>\n",
       "    </tr>\n",
       "  </tbody>\n",
       "</table>\n",
       "</div>"
      ],
      "text/plain": [
       "     TP  FN  FP     TPR     PPV      F1\n",
       "0  3169   4   4  0.9987  0.9987  0.9987\n",
       "1   235   2   5  0.9916  0.9792  0.9853\n",
       "2    14   0   0  1.0000  1.0000  1.0000\n",
       "3     8   4   1  0.6667  0.8889  0.7619"
      ]
     },
     "execution_count": 7,
     "metadata": {},
     "output_type": "execute_result"
    }
   ],
   "source": [
    "confusion_mat = confusion_matrix(label, predict, labels=[i for i in range(4)])\n",
    "print(confusion_mat) # row = label, column = predict\n",
    "\n",
    "score = calc_score(confusion_mat)\n",
    "pd.DataFrame(score)"
   ]
  }
 ],
 "metadata": {
  "kernelspec": {
   "display_name": "Python 3.8.13 ('pytorch')",
   "language": "python",
   "name": "python3"
  },
  "language_info": {
   "codemirror_mode": {
    "name": "ipython",
    "version": 3
   },
   "file_extension": ".py",
   "mimetype": "text/x-python",
   "name": "python",
   "nbconvert_exporter": "python",
   "pygments_lexer": "ipython3",
   "version": "3.8.13"
  },
  "orig_nbformat": 4,
  "vscode": {
   "interpreter": {
    "hash": "7fe7e10e5f5d0508c9b62331169c598711bde018a8abe63e5380bb769babbd73"
   }
  }
 },
 "nbformat": 4,
 "nbformat_minor": 2
}
