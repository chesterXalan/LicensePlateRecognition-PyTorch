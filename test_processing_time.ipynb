{
 "cells": [
  {
   "cell_type": "code",
   "execution_count": 2,
   "metadata": {},
   "outputs": [],
   "source": [
    "import cv2\n",
    "import json\n",
    "import numpy as np\n",
    "import os.path as osp\n",
    "from time import time\n",
    "from pathlib import Path\n",
    "from tqdm import tqdm\n",
    "\n",
    "from core import ObjectDetector, CornerPredictor"
   ]
  },
  {
   "cell_type": "code",
   "execution_count": 3,
   "metadata": {},
   "outputs": [
    {
     "name": "stdout",
     "output_type": "stream",
     "text": [
      "<yolov4-default> model loaded.\n",
      "<yolov4-plate_type> model loaded.\n",
      "<yolov4-plate_number> model loaded.\n",
      "<corner_prediction> model loaded.\n"
     ]
    }
   ],
   "source": [
    "dt_vehicle = ObjectDetector('yolov4-default')\n",
    "dt_plate   = ObjectDetector('yolov4-plate_type')\n",
    "dt_number  = ObjectDetector('yolov4-plate_number')\n",
    "dt_corner  = CornerPredictor('corner_prediction')"
   ]
  },
  {
   "cell_type": "code",
   "execution_count": 7,
   "metadata": {},
   "outputs": [],
   "source": [
    "def start(img):\n",
    "    obj2, number = '', ''\n",
    "    t1, t2, t3, t4 = 0, 0, 0, 0\n",
    "\n",
    "    s_time = time()\n",
    "    _ = dt_vehicle.loadImage(img)\n",
    "    bbox1, _ = dt_vehicle.runDetection(mode='vehicle')\n",
    "    t1 = time() - s_time # vehicle detection time\n",
    "\n",
    "    if len(bbox1) != 0:\n",
    "        s_time = time()\n",
    "        img_vehicle = dt_plate.loadImage(img, True, bbox1)\n",
    "        bbox2, obj2 = dt_plate.runDetection(mode='plate')\n",
    "        t2 = time() - s_time # LP detection time\n",
    "\n",
    "        if len(bbox2) != 0:\n",
    "            s_time = time()\n",
    "            _ = dt_corner.loadImage(img_vehicle, True, bbox2)\n",
    "            img_plate_warped, _ = dt_corner.runPrediction()\n",
    "            t3 = time() - s_time # LP corner prediction time\n",
    "\n",
    "            s_time = time()\n",
    "            _ = dt_number.loadImage(img_plate_warped)\n",
    "            bbox3, obj3 = dt_number.runDetection(mode='number', multi_res=True)\n",
    "\n",
    "            if len(bbox3) != 0:\n",
    "                order = bbox3[:, 0, 0].argsort()\n",
    "                for o in order:\n",
    "                    number += obj3[o]\n",
    "                t4 = time() - s_time # LP recognition time\n",
    "\n",
    "    return obj2, number, t1, t2, t3, t4\n",
    "\n",
    "def eval(test_path):\n",
    "    n_test = len(test_path)\n",
    "    total_time = np.array([0., 0., 0., 0.])\n",
    "    num_result = 0\n",
    "    initial = True\n",
    "\n",
    "    for i in tqdm(range(n_test), unit=' images', ncols=100):\n",
    "        p = test_path[i]\n",
    "        img = cv2.cvtColor(cv2.imread(p), cv2.COLOR_BGR2RGB)\n",
    "        _, d_number, t1, t2, t3, t4 = start(img)\n",
    "\n",
    "        if d_number != '':\n",
    "            num_result += 1\n",
    "            if initial:\n",
    "                _, _, t1, t2, t3, t4 = start(img)\n",
    "                initial = False\n",
    "            total_time[0] += t1\n",
    "            total_time[1] += t2\n",
    "            total_time[2] += t3\n",
    "            total_time[3] += t4\n",
    "\n",
    "    return total_time, num_result"
   ]
  },
  {
   "cell_type": "code",
   "execution_count": 5,
   "metadata": {},
   "outputs": [
    {
     "name": "stdout",
     "output_type": "stream",
     "text": [
      "total: 2049\n"
     ]
    }
   ],
   "source": [
    "dataset_dir1 = r'D:\\User Profiles\\Desktop\\Personal Files\\School\\University Project\\myPlateDetection\\all_dataset\\test_data'\n",
    "vehicle_dataset1 = osp.join(dataset_dir1, 'vehicle_images')\n",
    "\n",
    "test_path1 = [str(p) for p in Path(vehicle_dataset1).glob('**/*.jpg')]\n",
    "print('total:', len(test_path1))"
   ]
  },
  {
   "cell_type": "code",
   "execution_count": 6,
   "metadata": {},
   "outputs": [
    {
     "name": "stdout",
     "output_type": "stream",
     "text": [
      "total: 3496\n"
     ]
    }
   ],
   "source": [
    "dataset_dir2 = r'D:\\User Profiles\\Desktop\\Personal Files\\School\\University Project\\myPlateDetection\\all_dataset\\train_valid_data'\n",
    "vehicle_dataset2 = osp.join(dataset_dir2, 'vehicle_images')\n",
    "\n",
    "path_file = r'D:\\User Profiles\\Desktop\\Personal Files\\School\\University Project\\myPlateDetection\\training_data\\plate_number_detection\\file_path.json'\n",
    "with open(path_file, 'r') as f:\n",
    "    test_path2 = json.load(f)['valid']\n",
    "\n",
    "test_path2 = [osp.join(vehicle_dataset2, osp.basename(p).split('-')[0]+'.jpg') for p in test_path2]\n",
    "print('total:', len(test_path2))"
   ]
  },
  {
   "cell_type": "code",
   "execution_count": 8,
   "metadata": {},
   "outputs": [
    {
     "name": "stderr",
     "output_type": "stream",
     "text": [
      "100%|██████████████████████████████████████████████████████| 2049/2049 [03:01<00:00, 11.30 images/s]\n",
      "100%|██████████████████████████████████████████████████████| 3496/3496 [05:31<00:00, 10.55 images/s]"
     ]
    },
    {
     "name": "stdout",
     "output_type": "stream",
     "text": [
      "Results: 3313\n",
      "Vehicle detection time: 0.040s\n",
      "LP detection time: 0.036s\n",
      "LP corner prediction time: 0.003s\n",
      "LP recognition time: 0.034s\n",
      "Total processing time: 0.113s\n"
     ]
    },
    {
     "name": "stderr",
     "output_type": "stream",
     "text": [
      "\n"
     ]
    }
   ],
   "source": [
    "total_time = np.array([0., 0., 0., 0.])\n",
    "num_result = 0\n",
    "\n",
    "t_time, n_result = eval(test_path1) # AOLP\n",
    "total_time += t_time\n",
    "num_result += n_result\n",
    "\n",
    "t_time, n_result = eval(test_path2) # Ours\n",
    "total_time += t_time\n",
    "num_result += n_result\n",
    "\n",
    "print('Results:', num_result)\n",
    "print('Vehicle detection time: {:.3f}s'.format(total_time[0]/num_result))\n",
    "print('LP detection time: {:.3f}s'.format(total_time[1]/num_result))\n",
    "print('LP corner prediction time: {:.3f}s'.format(total_time[2]/num_result))\n",
    "print('LP recognition time: {:.3f}s'.format(total_time[3]/num_result))\n",
    "print('Total processing time: {:.3f}s'.format(sum(total_time)/num_result))"
   ]
  }
 ],
 "metadata": {
  "kernelspec": {
   "display_name": "Python 3.8.13 ('pytorch')",
   "language": "python",
   "name": "python3"
  },
  "language_info": {
   "codemirror_mode": {
    "name": "ipython",
    "version": 3
   },
   "file_extension": ".py",
   "mimetype": "text/x-python",
   "name": "python",
   "nbconvert_exporter": "python",
   "pygments_lexer": "ipython3",
   "version": "3.8.13"
  },
  "orig_nbformat": 4,
  "vscode": {
   "interpreter": {
    "hash": "7fe7e10e5f5d0508c9b62331169c598711bde018a8abe63e5380bb769babbd73"
   }
  }
 },
 "nbformat": 4,
 "nbformat_minor": 2
}
